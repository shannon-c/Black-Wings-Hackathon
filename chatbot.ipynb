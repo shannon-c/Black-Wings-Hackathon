{
  "nbformat": 4,
  "nbformat_minor": 0,
  "metadata": {
    "colab": {
      "name": "chatbot",
      "provenance": []
    },
    "kernelspec": {
      "name": "python3",
      "display_name": "Python 3"
    }
  },
  "cells": [
    {
      "cell_type": "code",
      "metadata": {
        "colab": {
          "base_uri": "https://localhost:8080/"
        },
        "id": "GzI6QVLXrd38",
        "outputId": "d0aa2f5d-6a4d-437f-95c8-7ccbf77a6031"
      },
      "source": [
        "!pip install chatterbot==1.0.4\r\n",
        "from chatterbot import ChatBot\r\n",
        "from chatterbot.trainers import ListTrainer"
      ],
      "execution_count": null,
      "outputs": [
        {
          "output_type": "stream",
          "text": [
            "Requirement already satisfied: chatterbot==1.0.4 in /usr/local/lib/python3.6/dist-packages (1.0.4)\n",
            "Requirement already satisfied: nltk<4.0,>=3.2 in /usr/local/lib/python3.6/dist-packages (from chatterbot==1.0.4) (3.2.5)\n",
            "Requirement already satisfied: pymongo<4.0,>=3.3 in /usr/local/lib/python3.6/dist-packages (from chatterbot==1.0.4) (3.11.2)\n",
            "Requirement already satisfied: python-dateutil<2.8,>=2.7 in /usr/local/lib/python3.6/dist-packages (from chatterbot==1.0.4) (2.7.5)\n",
            "Requirement already satisfied: pint>=0.8.1 in /usr/local/lib/python3.6/dist-packages (from chatterbot==1.0.4) (0.16.1)\n",
            "Requirement already satisfied: chatterbot-corpus<1.3,>=1.2 in /usr/local/lib/python3.6/dist-packages (from chatterbot==1.0.4) (1.2.0)\n",
            "Requirement already satisfied: mathparse<0.2,>=0.1 in /usr/local/lib/python3.6/dist-packages (from chatterbot==1.0.4) (0.1.2)\n",
            "Requirement already satisfied: sqlalchemy<1.3,>=1.2 in /usr/local/lib/python3.6/dist-packages (from chatterbot==1.0.4) (1.2.19)\n",
            "Requirement already satisfied: six in /usr/local/lib/python3.6/dist-packages (from nltk<4.0,>=3.2->chatterbot==1.0.4) (1.15.0)\n",
            "Requirement already satisfied: packaging in /usr/local/lib/python3.6/dist-packages (from pint>=0.8.1->chatterbot==1.0.4) (20.9)\n",
            "Requirement already satisfied: importlib-metadata; python_version < \"3.8\" in /usr/local/lib/python3.6/dist-packages (from pint>=0.8.1->chatterbot==1.0.4) (3.4.0)\n",
            "Requirement already satisfied: importlib-resources; python_version < \"3.7\" in /usr/local/lib/python3.6/dist-packages (from pint>=0.8.1->chatterbot==1.0.4) (5.1.0)\n",
            "Requirement already satisfied: PyYAML<4.0,>=3.12 in /usr/local/lib/python3.6/dist-packages (from chatterbot-corpus<1.3,>=1.2->chatterbot==1.0.4) (3.13)\n",
            "Requirement already satisfied: pyparsing>=2.0.2 in /usr/local/lib/python3.6/dist-packages (from packaging->pint>=0.8.1->chatterbot==1.0.4) (2.4.7)\n",
            "Requirement already satisfied: zipp>=0.5 in /usr/local/lib/python3.6/dist-packages (from importlib-metadata; python_version < \"3.8\"->pint>=0.8.1->chatterbot==1.0.4) (3.4.0)\n",
            "Requirement already satisfied: typing-extensions>=3.6.4; python_version < \"3.8\" in /usr/local/lib/python3.6/dist-packages (from importlib-metadata; python_version < \"3.8\"->pint>=0.8.1->chatterbot==1.0.4) (3.7.4.3)\n"
          ],
          "name": "stdout"
        }
      ]
    },
    {
      "cell_type": "code",
      "metadata": {
        "colab": {
          "base_uri": "https://localhost:8080/"
        },
        "id": "wwgqMvR8rtC6",
        "outputId": "e8db9396-05cc-4f42-baf6-119e27153335"
      },
      "source": [
        "my_bot = ChatBot(name='PyBot', logic_adapters = [{\r\n",
        "            'import_path': 'chatterbot.logic.BestMatch',\r\n",
        "            'default_response': 'I am sorry, but I do not understand.',\r\n",
        "            'maximum_similarity_threshold': 0.90\r\n",
        "        }], preprocessors=[\r\n",
        "        'chatterbot.preprocessors.clean_whitespace'\r\n",
        "    ])"
      ],
      "execution_count": null,
      "outputs": [
        {
          "output_type": "stream",
          "text": [
            "[nltk_data] Downloading package averaged_perceptron_tagger to\n",
            "[nltk_data]     /root/nltk_data...\n",
            "[nltk_data]   Package averaged_perceptron_tagger is already up-to-\n",
            "[nltk_data]       date!\n",
            "[nltk_data] Downloading package punkt to /root/nltk_data...\n",
            "[nltk_data]   Package punkt is already up-to-date!\n",
            "[nltk_data] Downloading package stopwords to /root/nltk_data...\n",
            "[nltk_data]   Package stopwords is already up-to-date!\n"
          ],
          "name": "stdout"
        }
      ]
    },
    {
      "cell_type": "code",
      "metadata": {
        "colab": {
          "base_uri": "https://localhost:8080/"
        },
        "id": "I6JW4UC6sx6U",
        "outputId": "eb0b0b05-8e6c-4d50-f90a-e2cb5696f940"
      },
      "source": [
        "list_trainer = ListTrainer(my_bot)\r\n",
        "list_trainer.train(\r\n",
        "    [\r\n",
        "    #  intro\r\n",
        "     \"hi\", \"Hello\", \r\n",
        "     \"hello\", \"Hello!\", \r\n",
        "     'who are you', 'I am a discord bot that promote women empowerment and support https://media.giphy.com/media/AhgTQq3PvpvpXixbiD/giphy.gif',\r\n",
        "    #  get help (crime-related)\r\n",
        "     'women support', 'You are not alone. Here are some of your options https://www.womensaid.org.uk/ and https://www.bwss.org/support/',\r\n",
        "     'where can i get women support', 'You are not alone. Here are some of your options https://www.womensaid.org.uk/ and https://www.bwss.org/support/', \r\n",
        "     'i am harassed', 'You are not alone. Here are some of your options if you’re experiencing harrasement https://stopstreetharassment.org/our-work/nationalshhotline/',\r\n",
        "     'i experience violence', 'You are not alone, help is on the way. Here are some of your options if you are experiencing domestic violence https://www.womensaid.org.uk/ and https://avda-tx.org/',\r\n",
        "     'i experience harrasment', 'You are not alone.Help is on the way. Here are some of your options if you are experiencing sexual harrasment https://www.victimsupport.org.uk/crime-info/types-crime/sexual-harassment and https://au.reachout.com/articles/sexual-assault-support',\r\n",
        "    #  self improvement\r\n",
        "     'i want to exercise', 'Try some pushups. Up and down! https://media.giphy.com/media/3ohhwElB92YQv0igda/giphy.gif',\r\n",
        "     'do you have exercise recommendations?', 'Stretch your legs! https://media.giphy.com/media/J6Vhh4HWrTAxWjw2co/giphy.gif', \r\n",
        "     'i want to get healthier', 'Stretch your legs! https://media.giphy.com/media/J6Vhh4HWrTAxWjw2co/giphy.gif',\r\n",
        "     'how can I get healthier?', 'Stretch your legs! https://media.giphy.com/media/J6Vhh4HWrTAxWjw2co/giphy.gif',\r\n",
        "    #  mental health support (discrimination)\r\n",
        "     'i am not worthy of love', 'You are beautiful as always, and I am here for you. https://media.giphy.com/media/3o7btREha9GkGtgJKo/giphy.gif',\r\n",
        "     'it is a bad day. i need some encouragement', 'https://media.giphy.com/media/3o7btREha9GkGtgJKo/giphy.gif',\r\n",
        "     'i am sad', 'I have no words... But I want you to know I love you and am here for you. https://media.giphy.com/media/2UIcmK4pn7rYNLRboG/giphy.gif',\r\n",
        "     'i am feeling down', 'I have no words... But I want you to know I love you and am here for you. https://media.giphy.com/media/2UIcmK4pn7rYNLRboG/giphy.gif',\r\n",
        "     'i am stressed.', 'Hey! Are you okay? What is the problem? School, work, relationships? I am all ears. https://media.discordapp.net/attachments/803257943645880323/805302433390788648/giphy_5.gif',\r\n",
        "     'everything has been so messed up.', 'Hey! Are you okay? What is the problem? School, work, relationships? I am all ears. https://media.discordapp.net/attachments/803257943645880323/805302433390788648/giphy_5.gif',\r\n",
        "     'it is not getting better',  'Things have a way of working themselves out. I will always be there for you. <3',\r\n",
        "    # education and employment\r\n",
        "     'where can i get education recources', 'Here is a good website to learn various subjects https://www.khanacademy.org/',\r\n",
        "     'i am looking for a job', 'Based on your request, here are some useful links https://careers.google.com/jobs/results/', \r\n",
        "     \"want learn coding\", 'Here is a free course for you https://www.w3schools.com/ https://www.freecodecamp.org/'\r\n",
        "     ])"
      ],
      "execution_count": null,
      "outputs": [
        {
          "output_type": "stream",
          "text": [
            "List Trainer: [####################] 100%\n"
          ],
          "name": "stdout"
        }
      ]
    }
  ]
}